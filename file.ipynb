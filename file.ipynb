{
 "cells": [
  {
   "cell_type": "code",
   "execution_count": 39,
   "id": "3d45e256",
   "metadata": {
    "scrolled": false
   },
   "outputs": [
    {
     "name": "stdout",
     "output_type": "stream",
     "text": [
      "RMS is:  3159.8702672770705\n",
      "Slope is:  [  -1.33641291 -252.62836167  556.59251306  333.87231112 -881.96966984\n",
      "  518.60672369  134.3237974   201.13059407  743.3085039    24.05640203]\n",
      "Intercept is:  151.2921757999539\n",
      "Predicted values are:  [183.55114446 157.98015303 178.58772401 119.34295385 158.59413271\n",
      " 131.00526105  99.04781643  65.50279061 195.95570928  87.97553547\n",
      " 190.73852832 178.56940952 154.06709167 147.46709327  60.29016845\n",
      " 101.1847951  200.72506266 207.00877878  63.56268969 136.14120802\n",
      " 220.58707283  32.77516057 154.72164454 134.46155568  98.15131008\n",
      " 212.6592008   83.20746745 107.46255669  58.89171406 197.07990438\n",
      " 131.27748958 214.14549667 177.43461472 151.08548015  72.66978478\n",
      "  95.24885603 130.49083931  73.18351895 165.30882246 117.28164055\n",
      " 183.96252991 186.86532515 166.83524275 248.16123221 212.89519688]\n"
     ]
    }
   ],
   "source": [
    "import matplotlib.pyplot as plt\n",
    "import numpy as np\n",
    "from sklearn import datasets, linear_model\n",
    "from sklearn.metrics import mean_squared_error\n",
    "from sklearn.model_selection import train_test_split\n",
    "\n",
    "diabetes = datasets.load_diabetes()\n",
    "\n",
    "diabetes_x = diabetes.data\n",
    "diabetes_y = diabetes.target\n",
    "\n",
    "#data slicing for features\n",
    "# diabetes_x_train = diabetes_x[:-200]\n",
    "# diabetes_x_test = diabetes_x[-20:]\n",
    "\n",
    "#data slicing for corressponding labels\n",
    "# diabetes_y_train = diabetes.target[:-200]\n",
    "# diabetes_y_test = diabetes.target[-20:]\n",
    "\n",
    "#data splitting in 90% for training and 10% for testing\n",
    "diabetes_x_train,diabetes_x_test,diabetes_y_train,diabetes_y_test = train_test_split(diabetes_x,diabetes_y, test_size=0.1)\n",
    "\n",
    "#model training \n",
    "model = linear_model.LinearRegression()\n",
    "model.fit(diabetes_x_train,diabetes_y_train)\n",
    "\n",
    "prediction = model.predict(diabetes_x_test)\n",
    "\n",
    "rms = mean_squared_error(prediction, diabetes_y_test)\n",
    "\n",
    "print(\"RMS is: \",rms)\n",
    "\n",
    "#Regression graph \n",
    "print(\"Slope is: \", model.coef_)\n",
    "print(\"Intercept is: \", model.intercept_)\n",
    "print(\"Predicted values are: \", prediction)\n",
    "\n",
    "#Below lines won't work for all baseline(independent) variables\n",
    "# plt.scatter(diabetes_x_test, diabetes_y_test)\n",
    "# plt.plot(diabetes_x_test, prediction)\n",
    "# plt.show()\n"
   ]
  },
  {
   "cell_type": "code",
   "execution_count": null,
   "id": "06a4261e",
   "metadata": {},
   "outputs": [],
   "source": []
  }
 ],
 "metadata": {
  "kernelspec": {
   "display_name": "Python 3 (ipykernel)",
   "language": "python",
   "name": "python3"
  },
  "language_info": {
   "codemirror_mode": {
    "name": "ipython",
    "version": 3
   },
   "file_extension": ".py",
   "mimetype": "text/x-python",
   "name": "python",
   "nbconvert_exporter": "python",
   "pygments_lexer": "ipython3",
   "version": "3.9.7"
  }
 },
 "nbformat": 4,
 "nbformat_minor": 5
}
